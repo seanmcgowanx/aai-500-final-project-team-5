{
 "cells": [
  {
   "cell_type": "code",
   "execution_count": 1,
   "id": "8c8445dc",
   "metadata": {},
   "outputs": [],
   "source": [
    "# Import necessary libraries\n",
    "import pandas as pd"
   ]
  },
  {
   "cell_type": "code",
   "execution_count": 2,
   "id": "7b742579",
   "metadata": {},
   "outputs": [],
   "source": [
    "# Load the dataset \n",
    "df = pd.read_csv('../data/student_performance.csv')\n",
    "\n",
    "# Convert binary categorical variables to numeric format\n",
    "\n",
    "# School: GP = 1, MS = 0\n",
    "df['school'] = df['school'].map({'GP': 1, 'MS': 0})\n",
    "# Sex: M = 1, F = 0\n",
    "df['sex'] = df['sex'].map({'M': 1, 'F': 0})\n",
    "# Address: U = 1, R = 0\n",
    "df['address'] = df['address'].map({'U': 1, 'R': 0})\n",
    "# Family size: GT3 = 1, LE3 = 0\n",
    "df['famsize'] = df['famsize'].map({'GT3': 1, 'LE3': 0})\n",
    "# Parent's cohabitation status: T = 1, A = 0\n",
    "df['Pstatus'] = df['Pstatus'].map({'T': 1, 'A': 0}) \n",
    "# Extra educational support: yes = 1, no = 0\n",
    "df['schoolsup'] = df['schoolsup'].map({'yes': 1, 'no': 0})\n",
    "# Family support: yes = 1, no = 0\n",
    "df['famsup'] = df['famsup'].map({'yes': 1, 'no': 0})\n",
    "# Paid classes: yes = 1, no = 0\n",
    "df['paid'] = df['paid'].map({'yes': 1, 'no': 0})\n",
    "# Extra-curricular activities: yes = 1, no = 0\n",
    "df['activities'] = df['activities'].map({'yes': 1, 'no': 0})\n",
    "# Nursery attendance: yes = 1, no = 0\n",
    "df['nursery'] = df['nursery'].map({'yes': 1, 'no': 0})\n",
    "# Higher education intention: yes = 1, no = 0\n",
    "df['higher'] = df['higher'].map({'yes': 1, 'no': 0})\n",
    "# Internet access at home: yes = 1, no = 0\n",
    "df['internet'] = df['internet'].map({'yes': 1, 'no': 0})\n",
    "# Romantic relationship: yes = 1, no = 0\n",
    "df['romantic'] = df['romantic'].map({'yes': 1, 'no': 0})  \n",
    "\n",
    "\n",
    "# Save the preprocessed dataset\n",
    "df.to_csv('../data/student_preprocessed.csv', index=False)"
   ]
  }
 ],
 "metadata": {
  "kernelspec": {
   "display_name": "final-project-team-5",
   "language": "python",
   "name": "python3"
  },
  "language_info": {
   "codemirror_mode": {
    "name": "ipython",
    "version": 3
   },
   "file_extension": ".py",
   "mimetype": "text/x-python",
   "name": "python",
   "nbconvert_exporter": "python",
   "pygments_lexer": "ipython3",
   "version": "3.11.13"
  }
 },
 "nbformat": 4,
 "nbformat_minor": 5
}
