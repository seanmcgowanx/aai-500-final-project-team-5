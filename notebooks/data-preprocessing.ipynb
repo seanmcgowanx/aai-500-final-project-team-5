{
 "cells": [
  {
   "cell_type": "code",
   "execution_count": null,
   "id": "8c8445dc",
   "metadata": {},
   "outputs": [],
   "source": [
    "# Import necessary libraries\n",
    "import pandas as pd"
   ]
  },
  {
   "cell_type": "code",
   "execution_count": null,
   "id": "7b742579",
   "metadata": {},
   "outputs": [],
   "source": [
    "# Load the dataset \n",
    "df = pd.read_csv('../data/student_performance.csv')\n",
    "\n",
    "# Convert categorical variables to binary\n",
    "\n",
    "# School: GP = 1, MS = 0\n",
    "df['school_binary'] = df['school'].map({'GP': 1, 'MS': 0})\n",
    "# Sex: M = 1, F = 0\n",
    "df['sex_binary'] = df['sex'].map({'M': 1, 'F': 0})\n",
    "# Address: U = 1, R = 0\n",
    "df['address_binary'] = df['address'].map({'U': 1, 'R': 0})\n",
    "# Family size: GT3 = 1, LE3 = 0\n",
    "df['famsize_binary'] = df['famsize'].map({'GT3': 1, 'LE3': 0})\n",
    "# Parent's cohabitation status: T = 1, A = 0\n",
    "df['Pstatus_binary'] = df['Pstatus'].map({'T': 1, 'A': 0}) \n",
    "# Extra educational support: yes = 1, no = 0\n",
    "df['schoolsup_binary'] = df['schoolsup'].map({'yes': 1, 'no': 0})\n",
    "# Family support: yes = 1, no = 0\n",
    "df['famsup_binary'] = df['famsup'].map({'yes': 1, 'no': 0})\n",
    "# Paid classes: yes = 1, no = 0\n",
    "df['paid_binary'] = df['paid'].map({'yes': 1, 'no': 0})\n",
    "# Extra-curricular activities: yes = 1, no = 0\n",
    "df['activities_binary'] = df['activities'].map({'yes': 1, 'no': 0})\n",
    "# Nursery attendance: yes = 1, no = 0\n",
    "df['nursery_binary'] = df['nursery'].map({'yes': 1, 'no': 0})\n",
    "# Higher education intention: yes = 1, no = 0\n",
    "df['higher_binary'] = df['higher'].map({'yes': 1, 'no': 0})\n",
    "# Internet access at home: yes = 1, no = 0\n",
    "df['internet_binary'] = df['internet'].map({'yes': 1, 'no': 0})\n",
    "# Romantic relationship: yes = 1, no = 0\n",
    "df['romantic_binary'] = df['romantic'].map({'yes': 1, 'no': 0}) \n",
    "\n",
    "# One-hot encode non-binary categorical variables\n",
    "# Drop first category to avoid multicollinearity in regression\n",
    "\n",
    "# Mother's job: 'teacher', 'health', 'services', 'at_home', 'other'\n",
    "df = pd.get_dummies(df, columns=['Mjob'], prefix='Mjob', drop_first=True, dtype=int)\n",
    "# Father's job: 'teacher', 'health', 'services', 'at_home', 'other'\n",
    "df = pd.get_dummies(df, columns=['Fjob'], prefix='Fjob', drop_first=True, dtype=int)\n",
    "# Reason to choose school: 'home', 'reputation', 'course', 'other'\n",
    "df = pd.get_dummies(df, columns=['reason'], prefix='reason', drop_first=True, dtype=int)\n",
    "# Guardian: 'mother', 'father', 'other'\n",
    "df = pd.get_dummies(df, columns=['guardian'], prefix='guardian', drop_first=True, dtype=int)    \n",
    "\n",
    "\n",
    "# Drop original categorical columns\n",
    "df = df.drop(columns=['school', 'sex', 'address', 'famsize', 'Pstatus', 'schoolsup', 'famsup', 'paid', 'activities', 'nursery', 'higher', 'internet', 'romantic'])\n",
    "\n",
    "# Check for missing values and ensure numeric data types of the all columns\n",
    "df.info()\n",
    "\n",
    "# Save the preprocessed dataset\n",
    "df.to_csv('../data/student_preprocessed.csv', index=False)"
   ]
  }
 ],
 "metadata": {
  "kernelspec": {
   "display_name": "final-project-team-5",
   "language": "python",
   "name": "python3"
  },
  "language_info": {
   "codemirror_mode": {
    "name": "ipython",
    "version": 3
   },
   "file_extension": ".py",
   "mimetype": "text/x-python",
   "name": "python",
   "nbconvert_exporter": "python",
   "pygments_lexer": "ipython3",
   "version": "3.11.13"
  }
 },
 "nbformat": 4,
 "nbformat_minor": 5
}
